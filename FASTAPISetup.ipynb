{
 "cells": [
  {
   "cell_type": "code",
   "execution_count": 1,
   "metadata": {},
   "outputs": [
    {
     "name": "stdout",
     "output_type": "stream",
     "text": [
      "Collecting fastapi\n",
      "  Downloading fastapi-0.79.0-py3-none-any.whl (54 kB)\n",
      "Collecting pydantic!=1.7,!=1.7.1,!=1.7.2,!=1.7.3,!=1.8,!=1.8.1,<2.0.0,>=1.6.2\n",
      "  Downloading pydantic-1.9.1-cp37-cp37m-win_amd64.whl (1.9 MB)\n",
      "Collecting starlette==0.19.1\n",
      "  Downloading starlette-0.19.1-py3-none-any.whl (63 kB)\n",
      "Requirement already satisfied: typing-extensions>=3.7.4.3 in c:\\users\\charu\\anaconda3\\lib\\site-packages (from pydantic!=1.7,!=1.7.1,!=1.7.2,!=1.7.3,!=1.8,!=1.8.1,<2.0.0,>=1.6.2->fastapi) (4.3.0)\n",
      "Collecting anyio<5,>=3.4.0\n",
      "  Using cached anyio-3.6.1-py3-none-any.whl (80 kB)\n",
      "Requirement already satisfied: idna>=2.8 in c:\\users\\charu\\anaconda3\\lib\\site-packages (from anyio<5,>=3.4.0->starlette==0.19.1->fastapi) (2.8)\n",
      "Requirement already satisfied: sniffio>=1.1 in c:\\users\\charu\\anaconda3\\lib\\site-packages (from anyio<5,>=3.4.0->starlette==0.19.1->fastapi) (1.2.0)\n",
      "Installing collected packages: pydantic, anyio, starlette, fastapi\n",
      "Successfully installed anyio-3.6.1 fastapi-0.79.0 pydantic-1.9.1 starlette-0.19.1\n"
     ]
    }
   ],
   "source": [
    "!pip install fastapi"
   ]
  },
  {
   "cell_type": "code",
   "execution_count": 2,
   "metadata": {},
   "outputs": [
    {
     "name": "stdout",
     "output_type": "stream",
     "text": [
      "Collecting uvicorn[standard]\n",
      "  Downloading uvicorn-0.18.2-py3-none-any.whl (57 kB)\n",
      "Requirement already satisfied: click>=7.0 in c:\\users\\charu\\anaconda3\\lib\\site-packages (from uvicorn[standard]) (7.0)\n",
      "Requirement already satisfied: h11>=0.8 in c:\\users\\charu\\anaconda3\\lib\\site-packages (from uvicorn[standard]) (0.13.0)\n",
      "Requirement already satisfied: typing-extensions; python_version < \"3.8\" in c:\\users\\charu\\anaconda3\\lib\\site-packages (from uvicorn[standard]) (4.3.0)\n",
      "Collecting httptools>=0.4.0; extra == \"standard\"\n",
      "  Downloading httptools-0.4.0-cp37-cp37m-win_amd64.whl (142 kB)\n",
      "Requirement already satisfied: PyYAML>=5.1; extra == \"standard\" in c:\\users\\charu\\anaconda3\\lib\\site-packages (from uvicorn[standard]) (5.3)\n",
      "Collecting websockets>=10.0; extra == \"standard\"\n",
      "  Downloading websockets-10.3-cp37-cp37m-win_amd64.whl (98 kB)\n",
      "Collecting watchfiles>=0.13; extra == \"standard\"\n",
      "  Downloading watchfiles-0.15.0-cp37-abi3-win_amd64.whl (253 kB)\n",
      "Requirement already satisfied: colorama>=0.4; sys_platform == \"win32\" and extra == \"standard\" in c:\\users\\charu\\anaconda3\\lib\\site-packages (from uvicorn[standard]) (0.4.3)\n",
      "Collecting python-dotenv>=0.13; extra == \"standard\"\n",
      "  Downloading python_dotenv-0.20.0-py3-none-any.whl (17 kB)\n",
      "Requirement already satisfied: anyio<4,>=3.0.0 in c:\\users\\charu\\anaconda3\\lib\\site-packages (from watchfiles>=0.13; extra == \"standard\"->uvicorn[standard]) (3.6.1)\n",
      "Requirement already satisfied: sniffio>=1.1 in c:\\users\\charu\\anaconda3\\lib\\site-packages (from anyio<4,>=3.0.0->watchfiles>=0.13; extra == \"standard\"->uvicorn[standard]) (1.2.0)\n",
      "Requirement already satisfied: idna>=2.8 in c:\\users\\charu\\anaconda3\\lib\\site-packages (from anyio<4,>=3.0.0->watchfiles>=0.13; extra == \"standard\"->uvicorn[standard]) (2.8)\n",
      "Installing collected packages: httptools, websockets, watchfiles, python-dotenv, uvicorn\n",
      "Successfully installed httptools-0.4.0 python-dotenv-0.20.0 uvicorn-0.18.2 watchfiles-0.15.0 websockets-10.3\n"
     ]
    }
   ],
   "source": [
    "!pip install uvicorn[standard]"
   ]
  },
  {
   "cell_type": "code",
   "execution_count": null,
   "metadata": {},
   "outputs": [],
   "source": []
  }
 ],
 "metadata": {
  "kernelspec": {
   "display_name": "Python 3",
   "language": "python",
   "name": "python3"
  },
  "language_info": {
   "codemirror_mode": {
    "name": "ipython",
    "version": 3
   },
   "file_extension": ".py",
   "mimetype": "text/x-python",
   "name": "python",
   "nbconvert_exporter": "python",
   "pygments_lexer": "ipython3",
   "version": "3.7.6"
  }
 },
 "nbformat": 4,
 "nbformat_minor": 4
}
